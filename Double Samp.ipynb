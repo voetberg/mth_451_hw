{
 "cells": [
  {
   "cell_type": "code",
   "execution_count": 1,
   "metadata": {},
   "outputs": [],
   "source": [
    "import math "
   ]
  },
  {
   "cell_type": "code",
   "execution_count": 5,
   "metadata": {},
   "outputs": [],
   "source": [
    "def f(x,y): \n",
    "    return x*y**2"
   ]
  },
  {
   "cell_type": "code",
   "execution_count": 8,
   "metadata": {},
   "outputs": [],
   "source": [
    "j_1 = 0 \n",
    "j_2 = 0 \n",
    "j_3 = 0 \n",
    "\n",
    "\n",
    "n = 4 \n",
    "m = 4\n",
    "\n",
    "a = 2.1\n",
    "b = 2.5 \n",
    "h = (b-a)/n\n",
    "\n",
    "c = 1.2\n",
    "d = 1.4\n",
    "HX = (d-c)/m\n",
    "J_1=0\n",
    "J_2=0\n",
    "J_3=0"
   ]
  },
  {
   "cell_type": "code",
   "execution_count": 9,
   "metadata": {},
   "outputs": [
    {
     "name": "stdout",
     "output_type": "stream",
     "text": [
      "0.22185611111111103\n"
     ]
    }
   ],
   "source": [
    "for i in range(0,n): \n",
    "    K_1 = f(a+i*h,c) + f(a+i*h,d)\n",
    "    K_2 = 0 ##Even\n",
    "    K_3 = 0 ##Odd\n",
    "    for j in range(0,m-1):\n",
    "        Q = f(a+i*h,c+j*HX)\n",
    "        if j%2==0: \n",
    "            K_2+=Q \n",
    "        else: \n",
    "            K_3+=Q\n",
    "        \n",
    "    L = HX/3*(K_1 + 2*K_2 + 4*K_3)\n",
    "    if i==0 or i==n:\n",
    "        J_1+=L \n",
    "    elif i%2==0: \n",
    "        J_2+=L \n",
    "    else: \n",
    "        J_3+=L \n",
    "\n",
    "J = h/3*(J_1+2*J_2+4*J_3)\n",
    "print(J)"
   ]
  },
  {
   "cell_type": "code",
   "execution_count": null,
   "metadata": {},
   "outputs": [],
   "source": [
    "##Now single samp "
   ]
  }
 ],
 "metadata": {
  "kernelspec": {
   "display_name": "Python 3",
   "language": "python",
   "name": "python3"
  },
  "language_info": {
   "codemirror_mode": {
    "name": "ipython",
    "version": 3
   },
   "file_extension": ".py",
   "mimetype": "text/x-python",
   "name": "python",
   "nbconvert_exporter": "python",
   "pygments_lexer": "ipython3",
   "version": "3.6.4"
  }
 },
 "nbformat": 4,
 "nbformat_minor": 2
}
