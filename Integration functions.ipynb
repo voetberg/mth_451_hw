{
 "cells": [
  {
   "cell_type": "code",
   "execution_count": 2,
   "metadata": {},
   "outputs": [],
   "source": [
    "import numpy as np"
   ]
  },
  {
   "cell_type": "code",
   "execution_count": 10,
   "metadata": {},
   "outputs": [],
   "source": [
    "def f(x): \n",
    "    return (np.sin(x))**2\n",
    "\n",
    "def n1(x_0,x_1): \n",
    "    return abs(x_0-x_1)/2 * (f(x_0)+f(x_1))\n",
    "\n",
    "def n2(x_0,x_1,x_2): \n",
    "    return abs(x_0-x_1)/3 * (f(x_0)+4*f(x_1)+f(x_2))\n",
    "\n",
    "def n3(x_0,x_1,x_2,x_3): \n",
    "    return 3*abs(x_0-x_1)/8 * (f(x_0)+3*f(x_1)+3*f(x_2)+f(x_3))\n",
    "\n",
    "def n4(x_0,x_1,x_2,x_3,x_4):\n",
    "    ##Please kill me\n",
    "    return 2*abs(x_0-x_1)/45 * (7*f(x_0)+32*f(x_1)+12*f(x_2)+32*f(x_3)+7*f(x_4))\n",
    "\n",
    "def n0(x_0):\n",
    "    return x_0*f(x_0)\n",
    "\n",
    "def n1_mid(x_0,x_1): \n",
    "    return 3*abs(x_0-x_1)/2 * (f(x_0)+f(x_1))\n",
    "\n",
    "def n2_mid(x_0,x_1,x_2): \n",
    "    return 4*abs(x_0-x_1)/3 *  (12*f(x_0)-f(x_1)+2*f(x_2))\n",
    "\n",
    "def n3_mid(x_0,x_1,x_2,x_3): \n",
    "    return 5*abs(x_0-x_1)/24 * (11*f(x_0)+f(x_1)+f(x_2)+11*f(x_3))\n",
    "\n",
    "def error(x,x_true): \n",
    "    return abs(x-x_true)/x_true\n",
    "\n",
    "##I'm begging you. Don't make me write out these 8 formulas needlessly again. "
   ]
  },
  {
   "cell_type": "code",
   "execution_count": 12,
   "metadata": {},
   "outputs": [],
   "source": [
    "int_n1 = n1(0,np.pi/2)\n",
    "int_n2 = n2(0,np.pi/4,np.pi/2)\n",
    "int_n3 = n3(0,np.pi/6,np.pi/3,np.pi/2)\n",
    "int_n4 = n4(0,np.pi/10,np.pi/5,3*np.pi/10,np.pi/2)\n",
    "int_n0 = n0(np.pi/4)\n",
    "int_n1_mid = n1_mid(np.pi/6,np.pi/3)\n",
    "int_n2_mid = n2_mid(np.pi/10,np.pi/5,3*np.pi/10)\n",
    "int_n3_mid = n3_mid(np.pi/12, np.pi/10, np.pi/8, np.pi/6)"
   ]
  },
  {
   "cell_type": "code",
   "execution_count": 13,
   "metadata": {},
   "outputs": [
    {
     "name": "stdout",
     "output_type": "stream",
     "text": [
      "error from n1: 0.0\n",
      "error from n2: 1.4135798584282297e-16\n",
      "error from n3: 2.8271597168564594e-16\n",
      "error from n4: 0.37518403495554997\n",
      "error from n0: 0.49999999999999983\n",
      "error from n1_mid: 2.8271597168564594e-16\n",
      "error from n2_mid: 0.12502588016679275\n",
      "error from n3_mid: 0.9482111334527106\n"
     ]
    }
   ],
   "source": [
    "x_true = np.pi/4\n",
    "print(\"error from n1:\",error(int_n1,x_true))\n",
    "print(\"error from n2:\",error(int_n2,x_true))\n",
    "print(\"error from n3:\",error(int_n3,x_true))\n",
    "print(\"error from n4:\",error(int_n4,x_true))\n",
    "print(\"error from n0:\",error(int_n0,x_true))\n",
    "\n",
    "print(\"error from n1_mid:\",error(int_n1_mid,x_true))\n",
    "print(\"error from n2_mid:\",error(int_n2_mid,x_true))\n",
    "print(\"error from n3_mid:\",error(int_n3_mid,x_true))"
   ]
  },
  {
   "cell_type": "code",
   "execution_count": null,
   "metadata": {},
   "outputs": [],
   "source": []
  }
 ],
 "metadata": {
  "kernelspec": {
   "display_name": "Python 3",
   "language": "python",
   "name": "python3"
  },
  "language_info": {
   "codemirror_mode": {
    "name": "ipython",
    "version": 3
   },
   "file_extension": ".py",
   "mimetype": "text/x-python",
   "name": "python",
   "nbconvert_exporter": "python",
   "pygments_lexer": "ipython3",
   "version": "3.6.4"
  }
 },
 "nbformat": 4,
 "nbformat_minor": 2
}
