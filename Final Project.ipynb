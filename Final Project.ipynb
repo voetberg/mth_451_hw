{
 "cells": [
  {
   "cell_type": "code",
   "execution_count": 2,
   "metadata": {},
   "outputs": [],
   "source": [
    "##All the import statements to make this easier \n",
    "import math \n",
    "import numpy as np \n",
    "import matplotlib.pyplot as plt\n",
    "plt.style.use('ggplot')\n",
    "%matplotlib inline"
   ]
  },
  {
   "cell_type": "code",
   "execution_count": 10,
   "metadata": {},
   "outputs": [],
   "source": [
    "##Basic plotting function that will be used throughout this report\n",
    "def plot(f,h,y_lim,x_lim):\n",
    "    x = np.arange(-x_lim,x_lim,h)\n",
    "    y = f(x)\n",
    "    \n",
    "    plt.figure(figsize=(8,8))\n",
    "    plt.plot(x,y)\n",
    "    plt.xlim(-x_lim,x_lim)\n",
    "    plt.ylim(-y_lim,y_lim)"
   ]
  },
  {
   "cell_type": "markdown",
   "metadata": {},
   "source": [
    "## Question 1\n",
    "### Finding the roots of equations Bisection and Newton's Method \n",
    "\n",
    "Both the bisection and Newton's method are used to find the roots of a given equation. In order to solve this equation, there needs to be an intial guess at the roots. This can be done graphically. "
   ]
  },
  {
   "cell_type": "code",
   "execution_count": 15,
   "metadata": {},
   "outputs": [],
   "source": [
    "def f_1(x): \n",
    "    return x**5 + 4*x**4 - 7*x**2 - 3*x + 5\n",
    "def f_1prime(x):\n",
    "    return 5*x**4 + 16*x**3 - 14*x - 3"
   ]
  },
  {
   "cell_type": "code",
   "execution_count": 12,
   "metadata": {},
   "outputs": [
    {
     "data": {
      "image/png": "[encoded data removed]",
      "text/plain": [
       "<matplotlib.figure.Figure at 0x1c364882d68>"
      ]
     },
     "metadata": {},
     "output_type": "display_data"
    }
   ],
   "source": [
    "plot(f_1,.01,10,5)"
   ]
  },
  {
   "cell_type": "markdown",
   "metadata": {},
   "source": [
    "   From this plot we can make an intial guess, and let that be the intial value of the function. We can also see there are 3 roots, so we only need to solve for 3 roots, not a full 5. \n",
    "   We then can use a set of algorithms to find a numerial appropximation of the solution. We will first use the bisection method, with is done by take the midway point between endpoints, check the value of this midpoint, and replace one of the endpoints with this new point, and iterate on this. Namely, it is discribed by \n",
    "    <center> $p_i = \\frac{a+b}{2}$ </center>\n",
    "    where $p_i$ will replace $a$ if $f(a)$ has the same sign as $f(p_i)$, otherwise it will replace $f(b)$. \n",
    "    Another root-finding algorithm is Newton's method, with tends to be more accurate, but requires knowledge of the first derivative of the function. Luckily, the function used here is a 5th degree polynomial so it is a perfect canidate for this method. It works by iterating over the solution, improving it via the formula\n",
    "   <center> $p_{i} = p_{i-1} - \\frac{f(p_{i-1})}{f'(p_{i-1})}$ </center>\n",
    "   \n",
    "   In this application, 5 steps of the bisection method are taken, and then 10 steps of Newton's method. The algorithm for this is in the function below. "
   ]
  },
  {
   "cell_type": "code",
   "execution_count": 29,
   "metadata": {},
   "outputs": [],
   "source": [
    "def root_finder(f,fprime,a,b):\n",
    "    print(\"With intial conditions of a =\",a,\"and b =\",b)\n",
    "    p_l = []\n",
    "    for i in range(0,5): ##Computing using Bisection Method\n",
    "        p = (a+b)/2\n",
    "        p_l.append(p)\n",
    "        if np.sign(f(p)) == np.sign(f(a)): \n",
    "            a = p\n",
    "        else: \n",
    "            b = p\n",
    "    print(\"Result of bisection method:\", p)\n",
    "    for i in range(0,10): ##Computing using Newton's Method \n",
    "        p = p_l[-1]-(f(p_l[-1])/fprime(p_l[-1]))\n",
    "        p_l.append(p)\n",
    "    print(\"Result of the Newton's Method:\", p)"
   ]
  },
  {
   "cell_type": "code",
   "execution_count": 30,
   "metadata": {},
   "outputs": [
    {
     "name": "stdout",
     "output_type": "stream",
     "text": [
      "With intial conditions of a = -4 and b = -3\n",
      "Result of bisection method: -3.53125\n",
      "Result of the Newton's Method: -3.541127023564078\n",
      "\n",
      "With intial conditions of a = 0 and b = 0.85\n",
      "Result of bisection method: 0.8234375\n",
      "Result of the Newton's Method: 0.8237175498641635\n",
      "\n",
      "With intial conditions of a = 0.9 and b = 2\n",
      "Result of bisection method: 1.003125\n",
      "Result of the Newton's Method: 1.0\n"
     ]
    }
   ],
   "source": [
    "root_finder(f_1,f_1prime,-4,-3)\n",
    "print(\"\")\n",
    "root_finder(f_1,f_1prime,0,.85)\n",
    "print(\"\")\n",
    "root_finder(f_1,f_1prime,.9,2)"
   ]
  },
  {
   "cell_type": "markdown",
   "metadata": {},
   "source": [
    "## Question 2 \n",
    "### Natural Cubic Splice Interpolation \n",
    "\n",
    "Here is where I talk about how cubic splice works but I don't want to rn "
   ]
  },
  {
   "cell_type": "markdown",
   "metadata": {},
   "source": [
    "## Question 3 \n",
    "### Numerial values of integrals \n",
    "There are many methods for computing the exact values of integrals, and this section will dicuss two of them; composite Simpson's rule and composite Gaussian Quadrature. The 'composite' part of this implies that the area the integral is over is divided into intervals. \n",
    "In this case, the function to integrate is \n",
    "<center> $f(x) = 2x\\sin{x}$ over the area $[0,\\pi]$ </center>\n",
    "To reach an error of $10^{6}$, smaller and smaller intevrals will be added, denoted by $\\frac{\\pi}{2^{k}}$, where k it iteratively larger. \n",
    "#### Guassian Quadrature \n",
    "TALK ABOUT HOW THAT WORKS \n",
    "\n",
    "#### Simpson's Rule \n",
    "AND THEN SIMPSON'S IDK "
   ]
  },
  {
   "cell_type": "code",
   "execution_count": null,
   "metadata": {},
   "outputs": [],
   "source": [
    "##Numerial solutions of Guassian "
   ]
  },
  {
   "cell_type": "code",
   "execution_count": null,
   "metadata": {},
   "outputs": [],
   "source": [
    "##Function for Simpson's "
   ]
  },
  {
   "cell_type": "markdown",
   "metadata": {},
   "source": [
    "## Question 4\n",
    "### 4th Order Runge-Kutta Method\n",
    "All this bullshit "
   ]
  }
 ],
 "metadata": {
  "kernelspec": {
   "display_name": "Python 3",
   "language": "python",
   "name": "python3"
  },
  "language_info": {
   "codemirror_mode": {
    "name": "ipython",
    "version": 3
   },
   "file_extension": ".py",
   "mimetype": "text/x-python",
   "name": "python",
   "nbconvert_exporter": "python",
   "pygments_lexer": "ipython3",
   "version": "3.6.4"
  }
 },
 "nbformat": 4,
 "nbformat_minor": 2
}
