{
 "cells": [
  {
   "cell_type": "markdown",
   "metadata": {},
   "source": [
    "## Introduction \n",
    "\n",
    "This report will follow numerial methods for different types of problems. Formulae used for these solutions are programmed into python in the form of function, all of which are included in the body of the report for clarity's sake. Numerial solutions will be printed at the end of each block of code. Error for each solution is included where it is applicable, calculated using the \"error\" function located below. The method for calculating true values is dicussed in each problem, again, where applicable. "
   ]
  },
  {
   "cell_type": "code",
   "execution_count": 28,
   "metadata": {},
   "outputs": [],
   "source": [
    "##All the import statements to make this easier \n",
    "import math \n",
    "import numpy as np \n",
    "import matplotlib.pyplot as plt\n",
    "from mpl_toolkits import mplot3d\n",
    "plt.style.use('ggplot')\n",
    "%matplotlib inline"
   ]
  },
  {
   "cell_type": "code",
   "execution_count": 3,
   "metadata": {},
   "outputs": [],
   "source": [
    "##Basic error finding function\n",
    "def error(x,x_true):\n",
    "    return float(abs(x_true-x)/x_true)"
   ]
  },
  {
   "cell_type": "markdown",
   "metadata": {},
   "source": [
    "## Question 1\n",
    "### Finding the roots of equations Bisection and Newton's Method \n",
    "\n",
    "Both the bisection and Newton's method are used to find the roots of a given equation. In order to solve this equation, there needs to be an intial guess at the roots. This can be done graphically. "
   ]
  },
  {
   "cell_type": "code",
   "execution_count": 4,
   "metadata": {},
   "outputs": [],
   "source": [
    "def f_1(x): \n",
    "    return x**5 + 4*x**4 - 7*x**2 - 3*x + 5\n",
    "def f_1prime(x):\n",
    "    return 5*x**4 + 16*x**3 - 14*x - 3"
   ]
  },
  {
   "cell_type": "code",
   "execution_count": 77,
   "metadata": {},
   "outputs": [
    {
     "name": "stdout",
     "output_type": "stream",
     "text": [
      "[-5.0000000e+00 -4.9900000e+00 -4.9800000e+00 -4.9700000e+00\n",
      " -4.9600000e+00 -4.9500000e+00 -4.9400000e+00 -4.9300000e+00\n",
      " -4.9200000e+00 -4.9100000e+00 -4.9000000e+00 -4.8900000e+00\n",
      " -4.8800000e+00 -4.8700000e+00 -4.8600000e+00 -4.8500000e+00\n",
      " -4.8400000e+00 -4.8300000e+00 -4.8200000e+00 -4.8100000e+00\n",
      " -4.8000000e+00 -4.7900000e+00 -4.7800000e+00 -4.7700000e+00\n",
      " -4.7600000e+00 -4.7500000e+00 -4.7400000e+00 -4.7300000e+00\n",
      " -4.7200000e+00 -4.7100000e+00 -4.7000000e+00 -4.6900000e+00\n",
      " -4.6800000e+00 -4.6700000e+00 -4.6600000e+00 -4.6500000e+00\n",
      " -4.6400000e+00 -4.6300000e+00 -4.6200000e+00 -4.6100000e+00\n",
      " -4.6000000e+00 -4.5900000e+00 -4.5800000e+00 -4.5700000e+00\n",
      " -4.5600000e+00 -4.5500000e+00 -4.5400000e+00 -4.5300000e+00\n",
      " -4.5200000e+00 -4.5100000e+00 -4.5000000e+00 -4.4900000e+00\n",
      " -4.4800000e+00 -4.4700000e+00 -4.4600000e+00 -4.4500000e+00\n",
      " -4.4400000e+00 -4.4300000e+00 -4.4200000e+00 -4.4100000e+00\n",
      " -4.4000000e+00 -4.3900000e+00 -4.3800000e+00 -4.3700000e+00\n",
      " -4.3600000e+00 -4.3500000e+00 -4.3400000e+00 -4.3300000e+00\n",
      " -4.3200000e+00 -4.3100000e+00 -4.3000000e+00 -4.2900000e+00\n",
      " -4.2800000e+00 -4.2700000e+00 -4.2600000e+00 -4.2500000e+00\n",
      " -4.2400000e+00 -4.2300000e+00 -4.2200000e+00 -4.2100000e+00\n",
      " -4.2000000e+00 -4.1900000e+00 -4.1800000e+00 -4.1700000e+00\n",
      " -4.1600000e+00 -4.1500000e+00 -4.1400000e+00 -4.1300000e+00\n",
      " -4.1200000e+00 -4.1100000e+00 -4.1000000e+00 -4.0900000e+00\n",
      " -4.0800000e+00 -4.0700000e+00 -4.0600000e+00 -4.0500000e+00\n",
      " -4.0400000e+00 -4.0300000e+00 -4.0200000e+00 -4.0100000e+00\n",
      " -4.0000000e+00 -3.9900000e+00 -3.9800000e+00 -3.9700000e+00\n",
      " -3.9600000e+00 -3.9500000e+00 -3.9400000e+00 -3.9300000e+00\n",
      " -3.9200000e+00 -3.9100000e+00 -3.9000000e+00 -3.8900000e+00\n",
      " -3.8800000e+00 -3.8700000e+00 -3.8600000e+00 -3.8500000e+00\n",
      " -3.8400000e+00 -3.8300000e+00 -3.8200000e+00 -3.8100000e+00\n",
      " -3.8000000e+00 -3.7900000e+00 -3.7800000e+00 -3.7700000e+00\n",
      " -3.7600000e+00 -3.7500000e+00 -3.7400000e+00 -3.7300000e+00\n",
      " -3.7200000e+00 -3.7100000e+00 -3.7000000e+00 -3.6900000e+00\n",
      " -3.6800000e+00 -3.6700000e+00 -3.6600000e+00 -3.6500000e+00\n",
      " -3.6400000e+00 -3.6300000e+00 -3.6200000e+00 -3.6100000e+00\n",
      " -3.6000000e+00 -3.5900000e+00 -3.5800000e+00 -3.5700000e+00\n",
      " -3.5600000e+00 -3.5500000e+00 -3.5400000e+00 -3.5300000e+00\n",
      " -3.5200000e+00 -3.5100000e+00 -3.5000000e+00 -3.4900000e+00\n",
      " -3.4800000e+00 -3.4700000e+00 -3.4600000e+00 -3.4500000e+00\n",
      " -3.4400000e+00 -3.4300000e+00 -3.4200000e+00 -3.4100000e+00\n",
      " -3.4000000e+00 -3.3900000e+00 -3.3800000e+00 -3.3700000e+00\n",
      " -3.3600000e+00 -3.3500000e+00 -3.3400000e+00 -3.3300000e+00\n",
      " -3.3200000e+00 -3.3100000e+00 -3.3000000e+00 -3.2900000e+00\n",
      " -3.2800000e+00 -3.2700000e+00 -3.2600000e+00 -3.2500000e+00\n",
      " -3.2400000e+00 -3.2300000e+00 -3.2200000e+00 -3.2100000e+00\n",
      " -3.2000000e+00 -3.1900000e+00 -3.1800000e+00 -3.1700000e+00\n",
      " -3.1600000e+00 -3.1500000e+00 -3.1400000e+00 -3.1300000e+00\n",
      " -3.1200000e+00 -3.1100000e+00 -3.1000000e+00 -3.0900000e+00\n",
      " -3.0800000e+00 -3.0700000e+00 -3.0600000e+00 -3.0500000e+00\n",
      " -3.0400000e+00 -3.0300000e+00 -3.0200000e+00 -3.0100000e+00\n",
      " -3.0000000e+00 -2.9900000e+00 -2.9800000e+00 -2.9700000e+00\n",
      " -2.9600000e+00 -2.9500000e+00 -2.9400000e+00 -2.9300000e+00\n",
      " -2.9200000e+00 -2.9100000e+00 -2.9000000e+00 -2.8900000e+00\n",
      " -2.8800000e+00 -2.8700000e+00 -2.8600000e+00 -2.8500000e+00\n",
      " -2.8400000e+00 -2.8300000e+00 -2.8200000e+00 -2.8100000e+00\n",
      " -2.8000000e+00 -2.7900000e+00 -2.7800000e+00 -2.7700000e+00\n",
      " -2.7600000e+00 -2.7500000e+00 -2.7400000e+00 -2.7300000e+00\n",
      " -2.7200000e+00 -2.7100000e+00 -2.7000000e+00 -2.6900000e+00\n",
      " -2.6800000e+00 -2.6700000e+00 -2.6600000e+00 -2.6500000e+00\n",
      " -2.6400000e+00 -2.6300000e+00 -2.6200000e+00 -2.6100000e+00\n",
      " -2.6000000e+00 -2.5900000e+00 -2.5800000e+00 -2.5700000e+00\n",
      " -2.5600000e+00 -2.5500000e+00 -2.5400000e+00 -2.5300000e+00\n",
      " -2.5200000e+00 -2.5100000e+00 -2.5000000e+00 -2.4900000e+00\n",
      " -2.4800000e+00 -2.4700000e+00 -2.4600000e+00 -2.4500000e+00\n",
      " -2.4400000e+00 -2.4300000e+00 -2.4200000e+00 -2.4100000e+00\n",
      " -2.4000000e+00 -2.3900000e+00 -2.3800000e+00 -2.3700000e+00\n",
      " -2.3600000e+00 -2.3500000e+00 -2.3400000e+00 -2.3300000e+00\n",
      " -2.3200000e+00 -2.3100000e+00 -2.3000000e+00 -2.2900000e+00\n",
      " -2.2800000e+00 -2.2700000e+00 -2.2600000e+00 -2.2500000e+00\n",
      " -2.2400000e+00 -2.2300000e+00 -2.2200000e+00 -2.2100000e+00\n",
      " -2.2000000e+00 -2.1900000e+00 -2.1800000e+00 -2.1700000e+00\n",
      " -2.1600000e+00 -2.1500000e+00 -2.1400000e+00 -2.1300000e+00\n",
      " -2.1200000e+00 -2.1100000e+00 -2.1000000e+00 -2.0900000e+00\n",
      " -2.0800000e+00 -2.0700000e+00 -2.0600000e+00 -2.0500000e+00\n",
      " -2.0400000e+00 -2.0300000e+00 -2.0200000e+00 -2.0100000e+00\n",
      " -2.0000000e+00 -1.9900000e+00 -1.9800000e+00 -1.9700000e+00\n",
      " -1.9600000e+00 -1.9500000e+00 -1.9400000e+00 -1.9300000e+00\n",
      " -1.9200000e+00 -1.9100000e+00 -1.9000000e+00 -1.8900000e+00\n",
      " -1.8800000e+00 -1.8700000e+00 -1.8600000e+00 -1.8500000e+00\n",
      " -1.8400000e+00 -1.8300000e+00 -1.8200000e+00 -1.8100000e+00\n",
      " -1.8000000e+00 -1.7900000e+00 -1.7800000e+00 -1.7700000e+00\n",
      " -1.7600000e+00 -1.7500000e+00 -1.7400000e+00 -1.7300000e+00\n",
      " -1.7200000e+00 -1.7100000e+00 -1.7000000e+00 -1.6900000e+00\n",
      " -1.6800000e+00 -1.6700000e+00 -1.6600000e+00 -1.6500000e+00\n",
      " -1.6400000e+00 -1.6300000e+00 -1.6200000e+00 -1.6100000e+00\n",
      " -1.6000000e+00 -1.5900000e+00 -1.5800000e+00 -1.5700000e+00\n",
      " -1.5600000e+00 -1.5500000e+00 -1.5400000e+00 -1.5300000e+00\n",
      " -1.5200000e+00 -1.5100000e+00 -1.5000000e+00 -1.4900000e+00\n",
      " -1.4800000e+00 -1.4700000e+00 -1.4600000e+00 -1.4500000e+00\n",
      " -1.4400000e+00 -1.4300000e+00 -1.4200000e+00 -1.4100000e+00\n",
      " -1.4000000e+00 -1.3900000e+00 -1.3800000e+00 -1.3700000e+00\n",
      " -1.3600000e+00 -1.3500000e+00 -1.3400000e+00 -1.3300000e+00\n",
      " -1.3200000e+00 -1.3100000e+00 -1.3000000e+00 -1.2900000e+00\n",
      " -1.2800000e+00 -1.2700000e+00 -1.2600000e+00 -1.2500000e+00\n",
      " -1.2400000e+00 -1.2300000e+00 -1.2200000e+00 -1.2100000e+00\n",
      " -1.2000000e+00 -1.1900000e+00 -1.1800000e+00 -1.1700000e+00\n",
      " -1.1600000e+00 -1.1500000e+00 -1.1400000e+00 -1.1300000e+00\n",
      " -1.1200000e+00 -1.1100000e+00 -1.1000000e+00 -1.0900000e+00\n",
      " -1.0800000e+00 -1.0700000e+00 -1.0600000e+00 -1.0500000e+00\n",
      " -1.0400000e+00 -1.0300000e+00 -1.0200000e+00 -1.0100000e+00\n",
      " -1.0000000e+00 -9.9000000e-01 -9.8000000e-01 -9.7000000e-01\n",
      " -9.6000000e-01 -9.5000000e-01 -9.4000000e-01 -9.3000000e-01\n",
      " -9.2000000e-01 -9.1000000e-01 -9.0000000e-01 -8.9000000e-01\n",
      " -8.8000000e-01 -8.7000000e-01 -8.6000000e-01 -8.5000000e-01\n",
      " -8.4000000e-01 -8.3000000e-01 -8.2000000e-01 -8.1000000e-01\n",
      " -8.0000000e-01 -7.9000000e-01 -7.8000000e-01 -7.7000000e-01\n",
      " -7.6000000e-01 -7.5000000e-01 -7.4000000e-01 -7.3000000e-01\n",
      " -7.2000000e-01 -7.1000000e-01 -7.0000000e-01 -6.9000000e-01\n",
      " -6.8000000e-01 -6.7000000e-01 -6.6000000e-01 -6.5000000e-01\n",
      " -6.4000000e-01 -6.3000000e-01 -6.2000000e-01 -6.1000000e-01\n",
      " -6.0000000e-01 -5.9000000e-01 -5.8000000e-01 -5.7000000e-01\n",
      " -5.6000000e-01 -5.5000000e-01 -5.4000000e-01 -5.3000000e-01\n",
      " -5.2000000e-01 -5.1000000e-01 -5.0000000e-01 -4.9000000e-01\n",
      " -4.8000000e-01 -4.7000000e-01 -4.6000000e-01 -4.5000000e-01\n",
      " -4.4000000e-01 -4.3000000e-01 -4.2000000e-01 -4.1000000e-01\n",
      " -4.0000000e-01 -3.9000000e-01 -3.8000000e-01 -3.7000000e-01\n",
      " -3.6000000e-01 -3.5000000e-01 -3.4000000e-01 -3.3000000e-01\n",
      " -3.2000000e-01 -3.1000000e-01 -3.0000000e-01 -2.9000000e-01\n",
      " -2.8000000e-01 -2.7000000e-01 -2.6000000e-01 -2.5000000e-01\n",
      " -2.4000000e-01 -2.3000000e-01 -2.2000000e-01 -2.1000000e-01\n",
      " -2.0000000e-01 -1.9000000e-01 -1.8000000e-01 -1.7000000e-01\n",
      " -1.6000000e-01 -1.5000000e-01 -1.4000000e-01 -1.3000000e-01\n",
      " -1.2000000e-01 -1.1000000e-01 -1.0000000e-01 -9.0000000e-02\n",
      " -8.0000000e-02 -7.0000000e-02 -6.0000000e-02 -5.0000000e-02\n",
      " -4.0000000e-02 -3.0000000e-02 -2.0000000e-02 -1.0000000e-02\n",
      " -1.0658141e-13  1.0000000e-02  2.0000000e-02  3.0000000e-02\n",
      "  4.0000000e-02  5.0000000e-02  6.0000000e-02  7.0000000e-02\n",
      "  8.0000000e-02  9.0000000e-02  1.0000000e-01  1.1000000e-01\n",
      "  1.2000000e-01  1.3000000e-01  1.4000000e-01  1.5000000e-01\n",
      "  1.6000000e-01  1.7000000e-01  1.8000000e-01  1.9000000e-01\n",
      "  2.0000000e-01  2.1000000e-01  2.2000000e-01  2.3000000e-01\n",
      "  2.4000000e-01  2.5000000e-01  2.6000000e-01  2.7000000e-01\n",
      "  2.8000000e-01  2.9000000e-01  3.0000000e-01  3.1000000e-01\n",
      "  3.2000000e-01  3.3000000e-01  3.4000000e-01  3.5000000e-01\n",
      "  3.6000000e-01  3.7000000e-01  3.8000000e-01  3.9000000e-01\n",
      "  4.0000000e-01  4.1000000e-01  4.2000000e-01  4.3000000e-01\n",
      "  4.4000000e-01  4.5000000e-01  4.6000000e-01  4.7000000e-01\n",
      "  4.8000000e-01  4.9000000e-01  5.0000000e-01  5.1000000e-01\n",
      "  5.2000000e-01  5.3000000e-01  5.4000000e-01  5.5000000e-01\n",
      "  5.6000000e-01  5.7000000e-01  5.8000000e-01  5.9000000e-01\n",
      "  6.0000000e-01  6.1000000e-01  6.2000000e-01  6.3000000e-01\n",
      "  6.4000000e-01  6.5000000e-01  6.6000000e-01  6.7000000e-01\n",
      "  6.8000000e-01  6.9000000e-01  7.0000000e-01  7.1000000e-01\n",
      "  7.2000000e-01  7.3000000e-01  7.4000000e-01  7.5000000e-01\n",
      "  7.6000000e-01  7.7000000e-01  7.8000000e-01  7.9000000e-01\n",
      "  8.0000000e-01  8.1000000e-01  8.2000000e-01  8.3000000e-01\n",
      "  8.4000000e-01  8.5000000e-01  8.6000000e-01  8.7000000e-01\n",
      "  8.8000000e-01  8.9000000e-01  9.0000000e-01  9.1000000e-01\n",
      "  9.2000000e-01  9.3000000e-01  9.4000000e-01  9.5000000e-01\n",
      "  9.6000000e-01  9.7000000e-01  9.8000000e-01  9.9000000e-01\n",
      "  1.0000000e+00  1.0100000e+00  1.0200000e+00  1.0300000e+00\n",
      "  1.0400000e+00  1.0500000e+00  1.0600000e+00  1.0700000e+00\n",
      "  1.0800000e+00  1.0900000e+00  1.1000000e+00  1.1100000e+00\n",
      "  1.1200000e+00  1.1300000e+00  1.1400000e+00  1.1500000e+00\n",
      "  1.1600000e+00  1.1700000e+00  1.1800000e+00  1.1900000e+00\n",
      "  1.2000000e+00  1.2100000e+00  1.2200000e+00  1.2300000e+00\n",
      "  1.2400000e+00  1.2500000e+00  1.2600000e+00  1.2700000e+00\n",
      "  1.2800000e+00  1.2900000e+00  1.3000000e+00  1.3100000e+00\n",
      "  1.3200000e+00  1.3300000e+00  1.3400000e+00  1.3500000e+00\n",
      "  1.3600000e+00  1.3700000e+00  1.3800000e+00  1.3900000e+00\n",
      "  1.4000000e+00  1.4100000e+00  1.4200000e+00  1.4300000e+00\n",
      "  1.4400000e+00  1.4500000e+00  1.4600000e+00  1.4700000e+00\n",
      "  1.4800000e+00  1.4900000e+00  1.5000000e+00  1.5100000e+00\n",
      "  1.5200000e+00  1.5300000e+00  1.5400000e+00  1.5500000e+00\n",
      "  1.5600000e+00  1.5700000e+00  1.5800000e+00  1.5900000e+00\n",
      "  1.6000000e+00  1.6100000e+00  1.6200000e+00  1.6300000e+00\n",
      "  1.6400000e+00  1.6500000e+00  1.6600000e+00  1.6700000e+00\n",
      "  1.6800000e+00  1.6900000e+00  1.7000000e+00  1.7100000e+00\n",
      "  1.7200000e+00  1.7300000e+00  1.7400000e+00  1.7500000e+00\n",
      "  1.7600000e+00  1.7700000e+00  1.7800000e+00  1.7900000e+00\n",
      "  1.8000000e+00  1.8100000e+00  1.8200000e+00  1.8300000e+00\n",
      "  1.8400000e+00  1.8500000e+00  1.8600000e+00  1.8700000e+00\n",
      "  1.8800000e+00  1.8900000e+00  1.9000000e+00  1.9100000e+00\n",
      "  1.9200000e+00  1.9300000e+00  1.9400000e+00  1.9500000e+00\n",
      "  1.9600000e+00  1.9700000e+00  1.9800000e+00  1.9900000e+00]\n"
     ]
    },
    {
     "data": {
      "text/plain": [
       "<matplotlib.figure.Figure at 0x18bfe8a6cc0>"
      ]
     },
     "execution_count": 77,
     "metadata": {},
     "output_type": "execute_result"
    },
    {
     "data": {
      "image/png": "[encoded data removed]",
      "text/plain": [
       "<matplotlib.figure.Figure at 0x18bfe79dba8>"
      ]
     },
     "metadata": {},
     "output_type": "display_data"
    },
    {
     "data": {
      "text/plain": [
       "<matplotlib.figure.Figure at 0x18bfe8a6cc0>"
      ]
     },
     "metadata": {},
     "output_type": "display_data"
    }
   ],
   "source": [
    "x = np.arange(-5,2,.01)\n",
    "y = f_1(x)  \n",
    "plt.plot(x,y)\n",
    "plt.axis([-5, 2, -10, 10])\n",
    "plt.figure(figsize=(8,8))"
   ]
  },
  {
   "cell_type": "markdown",
   "metadata": {},
   "source": [
    "   From this plot we can make an intial guess, and let that be the intial value of the function. We can also see there are 3 roots, so we only need to solve for 3 roots, not a full 5. \n",
    "   We then can use a set of algorithms to find a numerial appropximation of the solution. We will first use the bisection method, with is done by take the midway point between endpoints, check the value of this midpoint, and replace one of the endpoints with this new point, and iterate on this. Namely, it is discribed by \n",
    "    <center> $p_i = \\frac{a+b}{2}$ </center>\n",
    "    where $p_i$ will replace $a$ if $f(a)$ has the same sign as $f(p_i)$, otherwise it will replace $f(b)$. \n",
    "    Another root-finding algorithm is Newton's method, with tends to be more accurate, but requires knowledge of the first derivative of the function. Luckily, the function used here is a 5th degree polynomial so it is a perfect canidate for this method. It works by iterating over the solution, improving it via the formula\n",
    "   <center> $p_{i} = p_{i-1} - \\frac{f(p_{i-1})}{f'(p_{i-1})}$ </center>\n",
    "   \n",
    "   In this application, 5 steps of the bisection method are taken, and then 10 steps of Newton's method. The algorithm for this is in the function below. "
   ]
  },
  {
   "cell_type": "code",
   "execution_count": 6,
   "metadata": {},
   "outputs": [],
   "source": [
    "def root_finder(f,fprime,a,b):\n",
    "    print(\"With intial conditions of a =\",a,\"and b =\",b)\n",
    "    p_l = []\n",
    "    for i in range(0,5): ##Computing using Bisection Method\n",
    "        p = (a+b)/2\n",
    "        p_l.append(p)\n",
    "        if np.sign(f(p)) == np.sign(f(a)): \n",
    "            a = p\n",
    "        else: \n",
    "            b = p\n",
    "    print(\"Result of bisection method:\", p)\n",
    "    for i in range(0,10): ##Computing using Newton's Method \n",
    "        p = p_l[-1]-(f(p_l[-1])/fprime(p_l[-1]))\n",
    "        p_l.append(p)\n",
    "    print(\"Result of the Newton's Method:\", p)"
   ]
  },
  {
   "cell_type": "code",
   "execution_count": 7,
   "metadata": {},
   "outputs": [
    {
     "name": "stdout",
     "output_type": "stream",
     "text": [
      "With intial conditions of a = -4 and b = -3\n",
      "Result of bisection method: -3.53125\n",
      "Result of the Newton's Method: -3.541127023564078\n",
      "\n",
      "With intial conditions of a = 0 and b = 0.85\n",
      "Result of bisection method: 0.8234375\n",
      "Result of the Newton's Method: 0.8237175498641635\n",
      "\n",
      "With intial conditions of a = 0.9 and b = 2\n",
      "Result of bisection method: 1.003125\n",
      "Result of the Newton's Method: 1.0\n"
     ]
    }
   ],
   "source": [
    "root_finder(f_1,f_1prime,-4,-3)\n",
    "print(\"\")\n",
    "root_finder(f_1,f_1prime,0,.85)\n",
    "print(\"\")\n",
    "root_finder(f_1,f_1prime,.9,2)"
   ]
  },
  {
   "cell_type": "markdown",
   "metadata": {},
   "source": [
    "## Question 2 \n",
    "### Natural Cubic Splice Interpolation \n",
    "\n",
    "Cubic Splice is a function fitting method. It interpolates the data to be fit to a third degree polynomial, making it smooth and integrable. The general form of the equation follows: \n",
    "<center> $S_j(x) = a_j +b_j(x-x_j)+c_j(x-x_j)^2+d_j(x-x_j)^3$ </center>\n",
    "Where $S_j$ fits the jth subinterval. \n",
    "    There are different sets of boundary conditions, this case is using natural boundary conditions, meaning $S''(x_0)=S''(x_n)=0$. This results in the set of equations below:\n",
    "    <center> $h_j = x_{j+1}-x_j$ </center>\n",
    "    <center> $a_j = f(x_j)$ </center>\n",
    "    <center> $b_{j}=\\frac{(a_{j+1}-a_j)}{h_j}+h_j(c_j+c_{j+1})$ </center>\n",
    "    <center> $c_{j+1}=c_j+3d_jh_j $ </center>\n",
    "    <center> $d_j = \\frac{(c_{j+1}-c_j)}{3h_j}$ </center>\n",
    "    \n",
    "These equations are a mess to solve. Luckily these can be used to produce a matrix and vectors, **A**, **b**, and **x**, where **b** and **x** are the coeffients $b_j, c_j$. Then $d_j$ can be solved with the equation above.  \n",
    "A is given by \n",
    "<center>\n",
    " **A** = $\\begin{bmatrix}\n",
    "    1 & 0 & 0 & \\dots  & 0 \\\\\n",
    "    h_0 & 2(h_0 + h_1) & h_1 & \\dots  & 0 \\\\\n",
    "    \\vdots & \\vdots & \\vdots & \\ddots & \\vdots \\\\\n",
    "    0 & 0 & 0 & \\dots  & 1\n",
    "\\end{bmatrix}$\n",
    "  \n",
    " **b** = $\\begin{bmatrix}\n",
    "    0  \\\\\n",
    "    \\frac{3}{h_1}(a_2)-(a_1) - \\frac{3}{h_1}(a_1)-(a_0)\\\\\n",
    "    \\vdots  \\\\\n",
    "    \\frac{3}{h_{n-1}}(a_n)-(a_{n-1}) - \\frac{3}{h_{n-2}}(a_{n-1})-(a_{n-2}) \\\\\n",
    "    0 \n",
    "\\end{bmatrix}$\n",
    "    </center>\n",
    "    \n",
    "\n",
    "Using the dataset (-1,1), (0,-1), (1,5) and (4,4): \n",
    "<center>\n",
    " $\\begin{bmatrix}\n",
    "    1 & 0 & 0 & 0 \\\\\n",
    "    1 & 2 & 1 & 0 \\\\\n",
    "    0 & 1 & 8 & 3 \\\\\n",
    "    0 & 0 & 0 & 1\n",
    "\\end{bmatrix}$\n",
    "\n",
    "   $\\begin{bmatrix}\n",
    "    c_0  \\\\\n",
    "    c_1 \\\\\n",
    "    c_2 \\\\\n",
    "    c_3\n",
    "\\end{bmatrix}$\n",
    "  =\n",
    " $\\begin{bmatrix}\n",
    "    0  \\\\\n",
    "    24 \\\\\n",
    "    -19 \\\\\n",
    "    0 \n",
    "\\end{bmatrix}$\n",
    "\n",
    "    </center>\n",
    "    \n",
    "This system of equations is solved in the cell below. "
   ]
  },
  {
   "cell_type": "code",
   "execution_count": 47,
   "metadata": {},
   "outputs": [],
   "source": [
    "A = np.array([[1,0,0,0], [1,2,1,0],[0,1,8,3],[0,0,0,1]])\n",
    "h_ar = np.array([1,1,3])\n",
    "xj_ar = np.array([-1,0,1])\n",
    "\n",
    "a_ar = np.array([1,-1,5,4])\n",
    "b_ar = np.array([0,24,-19,0])\n",
    "c_ar = np.linalg.solve(A, b_ar) ##Function solver linalg\n",
    "d_ar = np.array([0,0,0]) ##Initalize to 0 \n",
    "\n",
    "for i in range(3): \n",
    "    d_ar[i]=(c_ar[i+1]-c_ar[i])/(3*h_ar[i])"
   ]
  },
  {
   "cell_type": "code",
   "execution_count": 64,
   "metadata": {},
   "outputs": [],
   "source": [
    "def cube_call(x,i):\n",
    "    return a_ar[i]+(b_ar[i]*(x[i]-xj_ar[i]))+(c_ar[i]*(x[i]-xj_ar[i])**2)+(d_ar[i]*(x[i]-xj_ar[i])**3)"
   ]
  },
  {
   "cell_type": "code",
   "execution_count": 81,
   "metadata": {},
   "outputs": [
    {
     "data": {
      "image/png": "[encoded data removed]",
      "text/plain": [
       "<matplotlib.figure.Figure at 0x18bfd1d2198>"
      ]
     },
     "metadata": {},
     "output_type": "display_data"
    }
   ],
   "source": [
    "S = np.array([0,0,0])\n",
    "x = [[np.arange(-1,0,.01)], [np.arange(0,1,.01)],[np.arange(1,4,.01)]]\n",
    "\n",
    "for i in range(0,3): \n",
    "    y = cube_call(x[i],i)\n",
    "    plt.plot(x[i],y)\n",
    "\n",
    "plt.title(\"Cubic Splice Solution of 4 points\")\n",
    "\n",
    "#plt.figure(figsize=(8,8))\n",
    "plt.show()"
   ]
  },
  {
   "cell_type": "markdown",
   "metadata": {},
   "source": [
    "## Question 3 \n",
    "### Numerial values of integrals \n",
    "There are many methods for computing the exact values of integrals, and this section will dicuss two of them; composite Simpson's rule and composite Gaussian Quadrature. The 'composite' part of this implies that the area the integral is over is divided into intervals. \n",
    "In this case, the function to integrate is \n",
    "<center> $f(x) = 2x\\sin{x}$ over the area $[0,\\pi]$ </center>\n",
    "To reach an error of $10^{6}$, smaller and smaller intevrals will be added, denoted by $\\frac{\\pi}{2^{k}}$, where k it iteratively larger. \n",
    "\n",
    "We know the symbolic solution of the integral is $F(x) =  2\\sin{x} - 2x\\cos{x} + C$, so we can take the true solution by using the fundemental theorm of calculus, and letting the truncation error be small enough to negelect in this case. \n",
    "\n",
    "#### Guassian Quadrature \n",
    "Composite Guassian Quadrature works by relying on the roots and coeffients of Lagendre polynomials, and summing over these roots and coeffients. This works by approximating the function as a Legendre polynomial, and passing the known solutions of those polynomials to the function. The fomula for this method is denoted by\n",
    "<center> $\\int^b_af(x)dx = \\Sigma_i^n c_{n,i}f(r_{n,i}) $ </center>\n",
    "Where $c_{n,i}$ is the coeffient of the Lagendre polynomial, and $r_{n,i}$ is the root. \n",
    "\n",
    "#### Simpson's Rule \n",
    "Composite Simpson's rule is an iterative method that subdivides an area of an integral and sums each of those subdivisions, approximating the value of F(x) over that interval with a second degree polynomial. This results in the fomula \n",
    "<center> $\\int_{a}^{b} f(x)dx = \\frac{h}{3}[f(a)-f(b)+2\\Sigma^{n/2-1}f(x_{2j})+4\\Sigma^{n/2}f(x_{2j-1})]$ </center>\n",
    "Where $x_{2j}$ and $x_{2j-1}$ denote even and odd terms, respectively."
   ]
  },
  {
   "cell_type": "code",
   "execution_count": 8,
   "metadata": {},
   "outputs": [],
   "source": [
    "x_true = 2*math.sin(math.pi) - 2*math.pi*math.cos(math.pi)\n",
    "def f_3(x):\n",
    "    return 2*x*math.sin(x)"
   ]
  },
  {
   "cell_type": "code",
   "execution_count": 15,
   "metadata": {},
   "outputs": [
    {
     "data": {
      "image/png": "[encoded data removed]",
      "text/plain": [
       "<matplotlib.figure.Figure at 0x18bfe1f9a90>"
      ]
     },
     "metadata": {},
     "output_type": "display_data"
    },
    {
     "data": {
      "text/plain": [
       "<matplotlib.figure.Figure at 0x18bfe156898>"
      ]
     },
     "metadata": {},
     "output_type": "display_data"
    },
    {
     "name": "stdout",
     "output_type": "stream",
     "text": [
      "Solution of Guassian Quadrature with 5 terms: 1.2046743019751536 with an error of 0.8082701300248758\n"
     ]
    }
   ],
   "source": [
    "##Numerial solutions of Guassian, values pulled from table 4.12 of the text. \n",
    "F_n2 = f_3(.5773502)+f_3(-.5773502)\n",
    "F_n3 = .5555555*f_3(.7745967)+.8888888*f_3(0)+.5555555*f_3(-.7745967)\n",
    "F_n4 = .3478548*f_3(.8611136)+.6521451*f_3(.3399810)+.6521451*f_3(-.3399810)+.3478548*f_3(-.8611136)\n",
    "F_n5 = .2369268*f_3(.9061798)+.4786286*f_3(.5384693)+.5688889*f_3(0)+.2369268*f_3(-.9061798)+.4786286*f_3(-.5384693)\n",
    "\n",
    "e_lst = [error(F_n2,x_true),error(F_n3,x_true),error(F_n4,x_true),error(F_n5,x_true)]\n",
    "\n",
    "plt.plot([2,3,4,5],e_lst,'ro')\n",
    "plt.title(\"Rate of Convergence of Guassian Quadrature\")\n",
    "plt.xlabel(\"Number of subintervals\")\n",
    "plt.ylabel(\"Error\")\n",
    "plt.figure(figsize=(8,8))\n",
    "plt.show()\n",
    "\n",
    "print(\"Solution of Guassian Quadrature with 5 terms:\",F_n5, \"with an error of\",e_lst[-1])"
   ]
  },
  {
   "cell_type": "code",
   "execution_count": 10,
   "metadata": {},
   "outputs": [],
   "source": [
    "##Function for Simpson's \n",
    "def simpson_rule(f,h,a,b):\n",
    "    N = (b-a)/h\n",
    "    K_1 = (f(a)+f(b))\n",
    "    K_2 = 0\n",
    "    K_3 = 0\n",
    "    for i in range(0,int(N)): \n",
    "        if i%2==0: \n",
    "            K_2+=f(a+i*h) \n",
    "        else: \n",
    "            K_3+=f(a+i*h)\n",
    "    return h/3*(K_1 + 2*K_2 +4*K_3)"
   ]
  },
  {
   "cell_type": "code",
   "execution_count": 11,
   "metadata": {},
   "outputs": [
    {
     "name": "stdout",
     "output_type": "stream",
     "text": [
      "Solution of 6.283188553605344 achieved in 5 iterations, with an error of 5.166847066953519e-07\n"
     ]
    }
   ],
   "source": [
    "k=1\n",
    "e=100\n",
    "e_lst=[] ##Storing the values to plot\n",
    "h_lst=[]\n",
    "while e>float(10**(-6)): \n",
    "    h = math.pi/(2**k)\n",
    "    calc = simpson_rule(f_3,h,0,math.pi)\n",
    "    e = error(calc,x_true)\n",
    "    k+=1\n",
    "    e_lst.append(math.log(e))\n",
    "    h_lst.append((math.pi)/h)\n",
    "print(\"Solution of\", calc,\"achieved in\", k-1,\"iterations, with an error of\",e)"
   ]
  },
  {
   "cell_type": "code",
   "execution_count": 12,
   "metadata": {},
   "outputs": [
    {
     "data": {
      "image/png": "[encoded data removed]",
      "text/plain": [
       "<matplotlib.figure.Figure at 0x18bfe1ac048>"
      ]
     },
     "metadata": {},
     "output_type": "display_data"
    },
    {
     "data": {
      "text/plain": [
       "<matplotlib.figure.Figure at 0x18bfe1a8a90>"
      ]
     },
     "metadata": {},
     "output_type": "display_data"
    }
   ],
   "source": [
    "plt.plot(h_lst,e_lst,'ro')\n",
    "plt.title(\"Rate of Convergence of Simpson's Rule\")\n",
    "plt.xlabel(\"Number of subintervals\")\n",
    "plt.ylabel(\"Error (log scale)\")\n",
    "plt.figure(figsize=(8,8))\n",
    "plt.show()"
   ]
  },
  {
   "cell_type": "markdown",
   "metadata": {},
   "source": [
    "## Question 4\n",
    "### 4th Order Runge-Kutta Method\n",
    "The fourth Order Runge-Katta Method is an multistep method, which can be used with a system of equation. Because of this, it can be adapted to solve a nth ordered differencial equation. In the case below, it is being used to solve the system: \n",
    "<center> $\\frac{dx}{dt}=-3y$</center>\n",
    "<center> $\\frac{dy}{dt}=\\frac{1}{3}x^2$ </center>\n",
    "\n",
    "Because $\\frac{dx}{dt}$ and $\\frac{dy}{dt}$ are only dependent on one variable each, the form of the Runge-Kutta Method is given by: \n",
    "<center> $K_{1,1} = h f_i(w_{2,j})$ </center>\n",
    "<center> $K_{2,1} = h f_i(w_{2,j}+\\frac{1}{2}K_{1,2})$ </center>\n",
    "<center> $K_{3,1} = h f_i(w_{2,j}+\\frac{1}{2}K_{2,2})$ </center>\n",
    "<center> $K_{4,1} = h f_i(w_{2,j}+K_{3,2})$ </center>"
   ]
  },
  {
   "cell_type": "code",
   "execution_count": 38,
   "metadata": {},
   "outputs": [],
   "source": [
    "def f_4_1(y):\n",
    "    return -3*y\n",
    "def f_4_2(x):\n",
    "    return (1/3)*x*x\n",
    "\n",
    "def KR_2D(f_1,f_2,x_0,y_0,h,N):\n",
    "    x=[x_0]\n",
    "    y=[y_0]\n",
    "    \n",
    "    for i in range(0,N):\n",
    "        K1_x=h*f_1(y[-1])\n",
    "        K1_y=h*f_2(x[-1])\n",
    "        K2_x=h*f_1(y[-1]+(1/2)*K1_y)\n",
    "        K2_y=h*f_2(x[-1]+(1/2)*K1_x)\n",
    "        K3_x=h*f_1(y[-1]+(1/2)*K2_y)\n",
    "        K3_y=h*f_2(x[-1]+(1/2)*K1_x)\n",
    "        K4_x=h*f_1(y[-1]+K2_y)\n",
    "        K4_y=h*f_2(x[-1]+K1_x)\n",
    "        \n",
    "        x_s = x[-1]+(1/6)*(K1_x+2*K2_x+2*K3_x+K4_x)\n",
    "        y_s = y[-1]+(1/6)*(K1_y+2*K2_y+2*K3_y+K4_y)\n",
    "        if (x_s != -math.inf) and (y_s != -math.inf):\n",
    "            x.append(x_s)\n",
    "            y.append(y_s)\n",
    "    return x,y"
   ]
  },
  {
   "cell_type": "code",
   "execution_count": 39,
   "metadata": {},
   "outputs": [
    {
     "name": "stdout",
     "output_type": "stream",
     "text": [
      "[0, -0.6012, -1.2192961824, -1.8994517288796888, -2.726752112440272, -3.8547375351950137, -5.581688715114282, -8.56467787702017, -14.517248492309509, -29.101577055417227, -79.42688269259789, -418.34144924581693, -10580.962881100386, -8620969.414377704, -6735969970013.239, -4.258781668835831e+24, -1.7128397051027467e+48, -2.7735679728680617e+95, -7.273812995291154e+189]\n"
     ]
    },
    {
     "ename": "ValueError",
     "evalue": "shape mismatch: objects cannot be broadcast to a single shape",
     "output_type": "error",
     "traceback": [
      "\u001b[1;31m---------------------------------------------------------------------------\u001b[0m",
      "\u001b[1;31mValueError\u001b[0m                                Traceback (most recent call last)",
      "\u001b[1;32m<ipython-input-39-fdcca486f114>\u001b[0m in \u001b[0;36m<module>\u001b[1;34m()\u001b[0m\n\u001b[0;32m      9\u001b[0m \u001b[0max\u001b[0m \u001b[1;33m=\u001b[0m \u001b[0mplt\u001b[0m\u001b[1;33m.\u001b[0m\u001b[0maxes\u001b[0m\u001b[1;33m(\u001b[0m\u001b[0mprojection\u001b[0m\u001b[1;33m=\u001b[0m\u001b[1;34m'3d'\u001b[0m\u001b[1;33m)\u001b[0m\u001b[1;33m\u001b[0m\u001b[0m\n\u001b[0;32m     10\u001b[0m \u001b[0mplt\u001b[0m\u001b[1;33m.\u001b[0m\u001b[0mtitle\u001b[0m\u001b[1;33m(\u001b[0m\u001b[1;34m\"Solution from the Runge-Kutta Method\"\u001b[0m\u001b[1;33m)\u001b[0m\u001b[1;33m\u001b[0m\u001b[0m\n\u001b[1;32m---> 11\u001b[1;33m \u001b[0max\u001b[0m\u001b[1;33m.\u001b[0m\u001b[0mscatter3D\u001b[0m\u001b[1;33m(\u001b[0m\u001b[0mx_lst\u001b[0m\u001b[1;33m,\u001b[0m \u001b[0my_lst\u001b[0m\u001b[1;33m,\u001b[0m \u001b[0mt\u001b[0m\u001b[1;33m,\u001b[0m \u001b[0mc\u001b[0m\u001b[1;33m=\u001b[0m\u001b[0mt\u001b[0m\u001b[1;33m,\u001b[0m \u001b[0mcmap\u001b[0m\u001b[1;33m=\u001b[0m\u001b[1;34m'Greens'\u001b[0m\u001b[1;33m)\u001b[0m\u001b[1;33m;\u001b[0m\u001b[1;33m\u001b[0m\u001b[0m\n\u001b[0m",
      "\u001b[1;32m~\\AppData\\Local\\Continuum\\anaconda3\\lib\\site-packages\\mpl_toolkits\\mplot3d\\axes3d.py\u001b[0m in \u001b[0;36mscatter\u001b[1;34m(self, xs, ys, zs, zdir, s, c, depthshade, *args, **kwargs)\u001b[0m\n\u001b[0;32m   2357\u001b[0m \u001b[1;33m\u001b[0m\u001b[0m\n\u001b[0;32m   2358\u001b[0m         xs, ys, zs = np.broadcast_arrays(\n\u001b[1;32m-> 2359\u001b[1;33m             *[np.ravel(np.ma.filled(t, np.nan)) for t in [xs, ys, zs]])\n\u001b[0m\u001b[0;32m   2360\u001b[0m         \u001b[0ms\u001b[0m \u001b[1;33m=\u001b[0m \u001b[0mnp\u001b[0m\u001b[1;33m.\u001b[0m\u001b[0mma\u001b[0m\u001b[1;33m.\u001b[0m\u001b[0mravel\u001b[0m\u001b[1;33m(\u001b[0m\u001b[0ms\u001b[0m\u001b[1;33m)\u001b[0m  \u001b[1;31m# This doesn't have to match x, y in size.\u001b[0m\u001b[1;33m\u001b[0m\u001b[0m\n\u001b[0;32m   2361\u001b[0m \u001b[1;33m\u001b[0m\u001b[0m\n",
      "\u001b[1;32m~\\AppData\\Local\\Continuum\\anaconda3\\lib\\site-packages\\numpy\\lib\\stride_tricks.py\u001b[0m in \u001b[0;36mbroadcast_arrays\u001b[1;34m(*args, **kwargs)\u001b[0m\n\u001b[0;32m    247\u001b[0m     \u001b[0margs\u001b[0m \u001b[1;33m=\u001b[0m \u001b[1;33m[\u001b[0m\u001b[0mnp\u001b[0m\u001b[1;33m.\u001b[0m\u001b[0marray\u001b[0m\u001b[1;33m(\u001b[0m\u001b[0m_m\u001b[0m\u001b[1;33m,\u001b[0m \u001b[0mcopy\u001b[0m\u001b[1;33m=\u001b[0m\u001b[1;32mFalse\u001b[0m\u001b[1;33m,\u001b[0m \u001b[0msubok\u001b[0m\u001b[1;33m=\u001b[0m\u001b[0msubok\u001b[0m\u001b[1;33m)\u001b[0m \u001b[1;32mfor\u001b[0m \u001b[0m_m\u001b[0m \u001b[1;32min\u001b[0m \u001b[0margs\u001b[0m\u001b[1;33m]\u001b[0m\u001b[1;33m\u001b[0m\u001b[0m\n\u001b[0;32m    248\u001b[0m \u001b[1;33m\u001b[0m\u001b[0m\n\u001b[1;32m--> 249\u001b[1;33m     \u001b[0mshape\u001b[0m \u001b[1;33m=\u001b[0m \u001b[0m_broadcast_shape\u001b[0m\u001b[1;33m(\u001b[0m\u001b[1;33m*\u001b[0m\u001b[0margs\u001b[0m\u001b[1;33m)\u001b[0m\u001b[1;33m\u001b[0m\u001b[0m\n\u001b[0m\u001b[0;32m    250\u001b[0m \u001b[1;33m\u001b[0m\u001b[0m\n\u001b[0;32m    251\u001b[0m     \u001b[1;32mif\u001b[0m \u001b[0mall\u001b[0m\u001b[1;33m(\u001b[0m\u001b[0marray\u001b[0m\u001b[1;33m.\u001b[0m\u001b[0mshape\u001b[0m \u001b[1;33m==\u001b[0m \u001b[0mshape\u001b[0m \u001b[1;32mfor\u001b[0m \u001b[0marray\u001b[0m \u001b[1;32min\u001b[0m \u001b[0margs\u001b[0m\u001b[1;33m)\u001b[0m\u001b[1;33m:\u001b[0m\u001b[1;33m\u001b[0m\u001b[0m\n",
      "\u001b[1;32m~\\AppData\\Local\\Continuum\\anaconda3\\lib\\site-packages\\numpy\\lib\\stride_tricks.py\u001b[0m in \u001b[0;36m_broadcast_shape\u001b[1;34m(*args)\u001b[0m\n\u001b[0;32m    182\u001b[0m     \u001b[1;31m# use the old-iterator because np.nditer does not handle size 0 arrays\u001b[0m\u001b[1;33m\u001b[0m\u001b[1;33m\u001b[0m\u001b[0m\n\u001b[0;32m    183\u001b[0m     \u001b[1;31m# consistently\u001b[0m\u001b[1;33m\u001b[0m\u001b[1;33m\u001b[0m\u001b[0m\n\u001b[1;32m--> 184\u001b[1;33m     \u001b[0mb\u001b[0m \u001b[1;33m=\u001b[0m \u001b[0mnp\u001b[0m\u001b[1;33m.\u001b[0m\u001b[0mbroadcast\u001b[0m\u001b[1;33m(\u001b[0m\u001b[1;33m*\u001b[0m\u001b[0margs\u001b[0m\u001b[1;33m[\u001b[0m\u001b[1;33m:\u001b[0m\u001b[1;36m32\u001b[0m\u001b[1;33m]\u001b[0m\u001b[1;33m)\u001b[0m\u001b[1;33m\u001b[0m\u001b[0m\n\u001b[0m\u001b[0;32m    185\u001b[0m     \u001b[1;31m# unfortunately, it cannot handle 32 or more arguments directly\u001b[0m\u001b[1;33m\u001b[0m\u001b[1;33m\u001b[0m\u001b[0m\n\u001b[0;32m    186\u001b[0m     \u001b[1;32mfor\u001b[0m \u001b[0mpos\u001b[0m \u001b[1;32min\u001b[0m \u001b[0mrange\u001b[0m\u001b[1;33m(\u001b[0m\u001b[1;36m32\u001b[0m\u001b[1;33m,\u001b[0m \u001b[0mlen\u001b[0m\u001b[1;33m(\u001b[0m\u001b[0margs\u001b[0m\u001b[1;33m)\u001b[0m\u001b[1;33m,\u001b[0m \u001b[1;36m31\u001b[0m\u001b[1;33m)\u001b[0m\u001b[1;33m:\u001b[0m\u001b[1;33m\u001b[0m\u001b[0m\n",
      "\u001b[1;31mValueError\u001b[0m: shape mismatch: objects cannot be broadcast to a single shape"
     ]
    },
    {
     "data": {
      "image/png": "[encoded data removed]",
      "text/plain": [
       "<matplotlib.figure.Figure at 0x18bfe3903c8>"
      ]
     },
     "metadata": {},
     "output_type": "display_data"
    }
   ],
   "source": [
    "a,b,N = 0,4,20\n",
    "h = (b-a)/N\n",
    "t = np.arange(a,b,h)\n",
    "x_lst,y_lst = KR_2D(f_4_1,f_4_2,0,1,h,N)\n",
    "\n",
    "print(x_lst)\n",
    "\n",
    "fig = plt.figure()\n",
    "ax = plt.axes(projection='3d')\n",
    "plt.title(\"Solution from the Runge-Kutta Method\")\n",
    "ax.scatter3D(x_lst, y_lst, t, c=t, cmap='Greens');"
   ]
  }
 ],
 "metadata": {
  "kernelspec": {
   "display_name": "Python 3",
   "language": "python",
   "name": "python3"
  },
  "language_info": {
   "codemirror_mode": {
    "name": "ipython",
    "version": 3
   },
   "file_extension": ".py",
   "mimetype": "text/x-python",
   "name": "python",
   "nbconvert_exporter": "python",
   "pygments_lexer": "ipython3",
   "version": "3.6.4"
  }
 },
 "nbformat": 4,
 "nbformat_minor": 2
}
