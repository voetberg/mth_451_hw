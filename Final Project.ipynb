{
 "cells": [
  {
   "cell_type": "code",
   "execution_count": 2,
   "metadata": {},
   "outputs": [],
   "source": [
    "##All the import statements to make this easier \n",
    "import math \n",
    "import numpy as np \n",
    "import matplotlib.pyplot as plt\n",
    "plt.style.use('ggplot')\n",
    "%matplotlib inline"
   ]
  },
  {
   "cell_type": "code",
   "execution_count": 17,
   "metadata": {},
   "outputs": [],
   "source": [
    "##Basic plotting function that will be used throughout this report\n",
    "def plot_fun(f,h,y_lim,x_lim):\n",
    "    x = np.arange(-x_lim,x_lim,h)\n",
    "    y = f(x)  \n",
    "    plt.plot(x,y)\n",
    "    plt.axis([-x_lim, x_lim, -y_lim, y_lim])\n",
    "    plt.figure(figsize=(8,8))\n",
    "##Basic error finding function\n",
    "def error(x,x_true):\n",
    "    return float(abs(x_true-x)/x_true)"
   ]
  },
  {
   "cell_type": "markdown",
   "metadata": {},
   "source": [
    "## Question 1\n",
    "### Finding the roots of equations Bisection and Newton's Method \n",
    "\n",
    "Both the bisection and Newton's method are used to find the roots of a given equation. In order to solve this equation, there needs to be an intial guess at the roots. This can be done graphically. "
   ]
  },
  {
   "cell_type": "code",
   "execution_count": 15,
   "metadata": {},
   "outputs": [],
   "source": [
    "def f_1(x): \n",
    "    return x**5 + 4*x**4 - 7*x**2 - 3*x + 5\n",
    "def f_1prime(x):\n",
    "    return 5*x**4 + 16*x**3 - 14*x - 3"
   ]
  },
  {
   "cell_type": "code",
   "execution_count": 16,
   "metadata": {},
   "outputs": [
    {
     "data": {
      "image/png": "[encoded data removed]",
      "text/plain": [
       "<matplotlib.figure.Figure at 0x213c87aae80>"
      ]
     },
     "metadata": {},
     "output_type": "display_data"
    },
    {
     "data": {
      "text/plain": [
       "<matplotlib.figure.Figure at 0x213c87bf160>"
      ]
     },
     "metadata": {},
     "output_type": "display_data"
    }
   ],
   "source": [
    "plot_fun(f_1,.01,10,5)"
   ]
  },
  {
   "cell_type": "markdown",
   "metadata": {},
   "source": [
    "   From this plot we can make an intial guess, and let that be the intial value of the function. We can also see there are 3 roots, so we only need to solve for 3 roots, not a full 5. \n",
    "   We then can use a set of algorithms to find a numerial appropximation of the solution. We will first use the bisection method, with is done by take the midway point between endpoints, check the value of this midpoint, and replace one of the endpoints with this new point, and iterate on this. Namely, it is discribed by \n",
    "    <center> $p_i = \\frac{a+b}{2}$ </center>\n",
    "    where $p_i$ will replace $a$ if $f(a)$ has the same sign as $f(p_i)$, otherwise it will replace $f(b)$. \n",
    "    Another root-finding algorithm is Newton's method, with tends to be more accurate, but requires knowledge of the first derivative of the function. Luckily, the function used here is a 5th degree polynomial so it is a perfect canidate for this method. It works by iterating over the solution, improving it via the formula\n",
    "   <center> $p_{i} = p_{i-1} - \\frac{f(p_{i-1})}{f'(p_{i-1})}$ </center>\n",
    "   \n",
    "   In this application, 5 steps of the bisection method are taken, and then 10 steps of Newton's method. The algorithm for this is in the function below. "
   ]
  },
  {
   "cell_type": "code",
   "execution_count": null,
   "metadata": {},
   "outputs": [],
   "source": [
    "def root_finder(f,fprime,a,b):\n",
    "    print(\"With intial conditions of a =\",a,\"and b =\",b)\n",
    "    p_l = []\n",
    "    for i in range(0,5): ##Computing using Bisection Method\n",
    "        p = (a+b)/2\n",
    "        p_l.append(p)\n",
    "        if np.sign(f(p)) == np.sign(f(a)): \n",
    "            a = p\n",
    "        else: \n",
    "            b = p\n",
    "    print(\"Result of bisection method:\", p)\n",
    "    for i in range(0,10): ##Computing using Newton's Method \n",
    "        p = p_l[-1]-(f(p_l[-1])/fprime(p_l[-1]))\n",
    "        p_l.append(p)\n",
    "    print(\"Result of the Newton's Method:\", p)"
   ]
  },
  {
   "cell_type": "code",
   "execution_count": null,
   "metadata": {},
   "outputs": [],
   "source": [
    "root_finder(f_1,f_1prime,-4,-3)\n",
    "print(\"\")\n",
    "root_finder(f_1,f_1prime,0,.85)\n",
    "print(\"\")\n",
    "root_finder(f_1,f_1prime,.9,2)"
   ]
  },
  {
   "cell_type": "markdown",
   "metadata": {},
   "source": [
    "## Question 2 \n",
    "### Natural Cubic Splice Interpolation \n",
    "\n",
    "Here is where I talk about how cubic splice works but I don't want to rn "
   ]
  },
  {
   "cell_type": "code",
   "execution_count": null,
   "metadata": {},
   "outputs": [],
   "source": []
  },
  {
   "cell_type": "markdown",
   "metadata": {},
   "source": [
    "## Question 3 \n",
    "### Numerial values of integrals \n",
    "There are many methods for computing the exact values of integrals, and this section will dicuss two of them; composite Simpson's rule and composite Gaussian Quadrature. The 'composite' part of this implies that the area the integral is over is divided into intervals. \n",
    "In this case, the function to integrate is \n",
    "<center> $f(x) = 2x\\sin{x}$ over the area $[0,\\pi]$ </center>\n",
    "To reach an error of $10^{6}$, smaller and smaller intevrals will be added, denoted by $\\frac{\\pi}{2^{k}}$, where k it iteratively larger. \n",
    "\n",
    "We know the symbolic solution of the integral is $F(x) =  2\\sin{x} - 2x\\cos{x} + C$, so we can take the true solution by using the fundemental theorm of calculus, and letting the truncation error be small enough to negelect in this case. \n",
    "\n",
    "#### Guassian Quadrature \n",
    "Composite Guassian Quadrature works by relying on the roots and coeffients of Lagendre polynomials, and summing over these roots and coeffients. This works by approximating the function as a Legendre polynomial, and passing the known solutions of those polynomials to the function. The fomula for this method is denoted by\n",
    "<center> $\\int^b_af(x)dx = \\Sigma_i^n c_{n,i}f(r_{n,i}) $ </center>\n",
    "Where $c_{n,i}$ is the coeffient of the Lagendre polynomial, and $r_{n,i}$ is the root. \n",
    "\n",
    "#### Simpson's Rule \n",
    "Composite Simpson's rule is an iterative method that subdivides an area of an integral and sums each of those subdivisions, approximating the value of F(x) over that interval with a second degree polynomial. This results in the fomula \n",
    "<center> $\\int_{a}^{b} f(x)dx = \\frac{h}{3}[f(a)-f(b)+2\\Sigma^{n/2-1}f(x_{2j})+4\\Sigma^{n/2}f(x_{2j-1})]$ </center>\n",
    "Where $x_{2j}$ and $x_{2j-1}$ denote even and odd terms, respectively."
   ]
  },
  {
   "cell_type": "code",
   "execution_count": 3,
   "metadata": {},
   "outputs": [],
   "source": [
    "x_true = 2*math.sin(math.pi) - 2*math.pi*math.cos(math.pi)\n",
    "def f_3(x):\n",
    "    return 2*x*math.sin(x)"
   ]
  },
  {
   "cell_type": "code",
   "execution_count": 19,
   "metadata": {},
   "outputs": [
    {
     "data": {
      "image/png": "[encoded data removed]",
      "text/plain": [
       "<matplotlib.figure.Figure at 0x213c8781908>"
      ]
     },
     "metadata": {},
     "output_type": "display_data"
    },
    {
     "data": {
      "text/plain": [
       "<matplotlib.figure.Figure at 0x213c881a128>"
      ]
     },
     "metadata": {},
     "output_type": "display_data"
    }
   ],
   "source": [
    "##Numerial solutions of Guassian, values pulled from table 4.12 of the text. \n",
    "F_n2 = f_3(.5773502)+f_3(-.5773502)\n",
    "F_n3 = .5555555*f_3(.7745967)+.8888888*f_3(0)+.5555555*f_3(-.7745967)\n",
    "F_n4 = .3478548*f_3(.8611136)+.6521451*f_3(.3399810)+.6521451*f_3(-.3399810)+.3478548*f_3(-.8611136)\n",
    "F_n5 = .2369268*f_3(.9061798)+.4786286*f_3(.5384693)+.5688889*f_3(0)+.2369268*f_3(-.9061798)+.4786286*f_3(-.5384693)\n",
    "\n",
    "e_lst = [error(F_n2,x_true),error(F_n3,x_true),error(F_n4,x_true),error(F_n5,x_true)]\n",
    "\n",
    "plt.plot([2,3,4,5],e_lst,'ro')\n",
    "plt.title(\"Rate of Convergence of Guassian Quadrature\")\n",
    "plt.xlabel(\"Number of subintervals\")\n",
    "plt.ylabel(\"Error\")\n",
    "plt.figure(figsize=(8,8))\n",
    "plt.show()"
   ]
  },
  {
   "cell_type": "code",
   "execution_count": 4,
   "metadata": {},
   "outputs": [],
   "source": [
    "##Function for Simpson's \n",
    "def simpson_rule(f,h,a,b):\n",
    "    N = (b-a)/h\n",
    "    K_1 = (f(a)+f(b))\n",
    "    K_2 = 0\n",
    "    K_3 = 0\n",
    "    for i in range(0,int(N)): \n",
    "        if i%2==0: \n",
    "            K_2+=f(a+i*h) \n",
    "        else: \n",
    "            K_3+=f(a+i*h)\n",
    "    return h/3*(K_1 + 2*K_3 +4*K_3)"
   ]
  },
  {
   "cell_type": "code",
   "execution_count": 21,
   "metadata": {},
   "outputs": [
    {
     "name": "stdout",
     "output_type": "stream",
     "text": [
      "Solution of 6.283187771337745 achieved in 11 iterations, with an error of 3.9218295147127057e-07\n"
     ]
    }
   ],
   "source": [
    "k=1\n",
    "e=100\n",
    "e_lst=[] ##Storing the values to plot\n",
    "h_lst=[]\n",
    "while e>float(10**(-6)): \n",
    "    h = math.pi/(2**k)\n",
    "    calc = simpson_rule(f_3,h,0,math.pi)\n",
    "    e = error(calc,x_true)\n",
    "    k+=1\n",
    "    e_lst.append(math.log(e))\n",
    "    h_lst.append((math.pi)/h)\n",
    "print(\"Solution of\", calc,\"achieved in\", k-1,\"iterations, with an error of\",e)"
   ]
  },
  {
   "cell_type": "code",
   "execution_count": 22,
   "metadata": {},
   "outputs": [
    {
     "data": {
      "image/png": "[encoded data removed]",
      "text/plain": [
       "<matplotlib.figure.Figure at 0x213c87db2b0>"
      ]
     },
     "metadata": {},
     "output_type": "display_data"
    },
    {
     "data": {
      "text/plain": [
       "<matplotlib.figure.Figure at 0x213c8712588>"
      ]
     },
     "metadata": {},
     "output_type": "display_data"
    }
   ],
   "source": [
    "plt.plot(h_lst,e_lst,'ro')\n",
    "plt.title(\"Rate of Convergence of Simpson's Rule\")\n",
    "plt.xlabel(\"Number of subintervals\")\n",
    "plt.ylabel(\"Error (log scale)\")\n",
    "plt.figure(figsize=(8,8))\n",
    "plt.show()"
   ]
  },
  {
   "cell_type": "markdown",
   "metadata": {},
   "source": [
    "## Question 4\n",
    "### 4th Order Runge-Kutta Method\n",
    "All this bullshit "
   ]
  },
  {
   "cell_type": "code",
   "execution_count": null,
   "metadata": {},
   "outputs": [],
   "source": [
    "def f_4_1(x):\n",
    "    return -3*x\n",
    "def f_4_2(x):\n",
    "    return (1/3)*x*x\n",
    "\n",
    "def KR_2D(f_1,f_2,x1_0,x2_0,a,b,N):\n",
    "    h=(b-a)/N\n",
    "    x1=[x1_0]\n",
    "    x2=[x2_0]\n",
    "    for i in range(0,N):\n",
    "        K1_1=h*f_4_1(x2[i])\n",
    "        K1_2=h*f_4_2(x1[i])\n",
    "        K2_1=h*f_4_1(x2[i]+(1/2)*K1_2)\n",
    "        K2_2=h*f_4_2(x1[i]+(1/2)*K1_1)\n",
    "        K3_1=h*f_4_1(x2[i]+(1/2)*K2_2)\n",
    "        K3_2=h*f_4_2(x1[i]+(1/2)*K1_1)\n",
    "        K4_1=h*f_4_1(x2[i]+K2_2)\n",
    "        K4_2=h*f_4_2(x1[i]+K1_1)\n",
    "        \n",
    "        x1.append(x1[i]+(1/6)*(K1_1+2*K2_1+2*K3_1+K4_1))\n",
    "        x2.append(x2[i]+(1/6)*(K1_2+2*K2_2+2*K3_2+K4_2))\n",
    "    return x1,x2"
   ]
  }
 ],
 "metadata": {
  "kernelspec": {
   "display_name": "Python 3",
   "language": "python",
   "name": "python3"
  }
 },
 "nbformat": 4,
 "nbformat_minor": 2
}
