{
 "cells": [
  {
   "cell_type": "code",
   "execution_count": 4,
   "metadata": {},
   "outputs": [],
   "source": [
    "##setting intials\n",
    "error = 10**(-4)\n",
    "p_l = [1]\n",
    "ptrue = 1.32471795724475\n",
    "##This is the only real root. The others are complex\n",
    "e = 10000000\n",
    "i=0"
   ]
  },
  {
   "cell_type": "code",
   "execution_count": 5,
   "metadata": {},
   "outputs": [],
   "source": [
    "##Functions\n",
    "def f(x): \n",
    "    return x**3-x-1\n",
    "def fprime(x):\n",
    "    return 3*x**2-1"
   ]
  },
  {
   "cell_type": "code",
   "execution_count": 6,
   "metadata": {},
   "outputs": [],
   "source": [
    "##Put it together\n",
    "while e > error:\n",
    "    p = p_l[i-1]-(f(p_l[i-1])/fprime(p_l[i-1]))\n",
    "    p_l.append(p)\n",
    "    e = abs(p-ptrue)\n",
    "    i+=1"
   ]
  },
  {
   "cell_type": "code",
   "execution_count": 8,
   "metadata": {},
   "outputs": [
    {
     "name": "stdout",
     "output_type": "stream",
     "text": [
      "Returns: 1.3247181739990537 after 7 interations\n"
     ]
    }
   ],
   "source": [
    "print(\"Returns:\",p_l[-1], \"after\", i, \"interations\" )"
   ]
  }
 ],
 "metadata": {
  "kernelspec": {
   "display_name": "Python 3",
   "language": "python",
   "name": "python3"
  },
  "language_info": {
   "codemirror_mode": {
    "name": "ipython",
    "version": 3
   },
   "file_extension": ".py",
   "mimetype": "text/x-python",
   "name": "python",
   "nbconvert_exporter": "python",
   "pygments_lexer": "ipython3",
   "version": "3.6.4"
  }
 },
 "nbformat": 4,
 "nbformat_minor": 2
}
