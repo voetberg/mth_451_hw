{
 "cells": [
  {
   "cell_type": "code",
   "execution_count": 1,
   "metadata": {},
   "outputs": [],
   "source": [
    "import numpy as np "
   ]
  },
  {
   "cell_type": "code",
   "execution_count": 21,
   "metadata": {},
   "outputs": [],
   "source": [
    "def dif_mid(h,p_1,p_2): \n",
    "    return 1/(2*h)*(p_2-p_1)\n",
    "\n",
    "def dif_end(h,p_1,p_2,p_3): \n",
    "    return 1/(2*h)*(-3*p_1+4*p_2-p_3)\n",
    "\n",
    "def dif_end_2(h,p_1,p_2,p_3): \n",
    "    return 1/(2*h)*(p_1-4*p_2+3*p_3)"
   ]
  },
  {
   "cell_type": "code",
   "execution_count": 12,
   "metadata": {},
   "outputs": [],
   "source": [
    "def f(x): \n",
    "    return np.sin(x)\n",
    "def f_prime(x): \n",
    "    return np.cos(x)\n",
    "def g(x): \n",
    "    return np.e**(x)-2*x**2+3*x-1\n",
    "def g_prime(x): \n",
    "    return np.e**(x)-4*x+3"
   ]
  },
  {
   "cell_type": "code",
   "execution_count": 22,
   "metadata": {},
   "outputs": [
    {
     "name": "stdout",
     "output_type": "stream",
     "text": [
      "0.8803779526492073\n",
      "0.8239607431674401\n",
      "0.7675435336856729\n"
     ]
    }
   ],
   "source": [
    "##Part a\n",
    "print(dif_end(.1,f(.5),f(.6),f(.7)))\n",
    "print(dif_mid(.1,f(.5),f(.7)))\n",
    "print(dif_end_2(.1,f(.5),f(.6),f(.7)))"
   ]
  },
  {
   "cell_type": "code",
   "execution_count": 23,
   "metadata": {},
   "outputs": [
    {
     "name": "stdout",
     "output_type": "stream",
     "text": [
      "3.984465837498523\n",
      "3.4295617441031756\n",
      "2.874657650707828\n"
     ]
    }
   ],
   "source": [
    "##part b \n",
    "print(dif_end(.2,g(.0),g(.2),g(.4)))\n",
    "print(dif_mid(.2,g(.0),g(.4)))\n",
    "print(dif_end_2(.2,g(.0),g(.2),g(.4)))"
   ]
  },
  {
   "cell_type": "code",
   "execution_count": 17,
   "metadata": {},
   "outputs": [],
   "source": [
    "##Error Calc\n",
    "def error(x,x_true): \n",
    "    return abs(x-x_true)/x_true"
   ]
  },
  {
   "cell_type": "code",
   "execution_count": 24,
   "metadata": {},
   "outputs": [
    {
     "name": "stdout",
     "output_type": "stream",
     "text": [
      "part a\n",
      "0.00318533079419108\n",
      "0.001665833531718768\n",
      "0.0035319003659765066\n"
     ]
    }
   ],
   "source": [
    "print(\"part a\")\n",
    "print(error(dif_end(.1,f(.5),f(.6),f(.7)),f_prime(.5)))\n",
    "print(error(dif_mid(.1,f(.5),f(.7)),f_prime(.6)))\n",
    "print(error(dif_end_2(.1,f(.5),f(.6),f(.7)),f_prime(.7)))"
   ]
  },
  {
   "cell_type": "code",
   "execution_count": 25,
   "metadata": {},
   "outputs": [
    {
     "name": "stdout",
     "output_type": "stream",
     "text": [
      "part b\n",
      "0.0038835406253692195\n",
      "0.002384690292175136\n",
      "0.005936406500520088\n"
     ]
    }
   ],
   "source": [
    "print(\"part b\")\n",
    "print(error(dif_end(.2,g(.0),g(.2),g(.4)),g_prime(0)))\n",
    "print(error(dif_mid(.2,g(.0),g(.4)),g_prime(.2)))\n",
    "print(error(dif_end_2(.2,g(.0),g(.2),g(.4)),g_prime(.4)))"
   ]
  }
 ],
 "metadata": {
  "kernelspec": {
   "display_name": "Python 3",
   "language": "python",
   "name": "python3"
  },
  "language_info": {
   "codemirror_mode": {
    "name": "ipython",
    "version": 3
   },
   "file_extension": ".py",
   "mimetype": "text/x-python",
   "name": "python",
   "nbconvert_exporter": "python",
   "pygments_lexer": "ipython3",
   "version": "3.6.4"
  }
 },
 "nbformat": 4,
 "nbformat_minor": 2
}
