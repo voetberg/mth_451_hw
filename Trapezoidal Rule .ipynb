{
 "cells": [
  {
   "cell_type": "code",
   "execution_count": 9,
   "metadata": {},
   "outputs": [],
   "source": [
    "import numpy as np \n",
    "import math "
   ]
  },
  {
   "cell_type": "code",
   "execution_count": 10,
   "metadata": {},
   "outputs": [],
   "source": [
    "def f(x): \n",
    "    return 2/(x**2+4)\n",
    "def g(x): \n",
    "    return x*math.log(x+1)"
   ]
  },
  {
   "cell_type": "code",
   "execution_count": 4,
   "metadata": {},
   "outputs": [],
   "source": [
    "def rule(a,b,fun,N): \n",
    "    h = (b-a)/N\n",
    "    s = 0.5*fun(a) + 0.5*fun(b)\n",
    "    for k in range(1,N):\n",
    "        s += fun(a+k*h)\n",
    "    return s*h"
   ]
  },
  {
   "cell_type": "code",
   "execution_count": 11,
   "metadata": {},
   "outputs": [
    {
     "name": "stdout",
     "output_type": "stream",
     "text": [
      "0.7842407666178157\n",
      "0.09363013974286855\n"
     ]
    }
   ],
   "source": [
    "print(rule(0,2,f,6))\n",
    "print(rule(-.5,.5,g,6))"
   ]
  }
 ],
 "metadata": {
  "kernelspec": {
   "display_name": "Python 3",
   "language": "python",
   "name": "python3"
  },
  "language_info": {
   "codemirror_mode": {
    "name": "ipython",
    "version": 3
   },
   "file_extension": ".py",
   "mimetype": "text/x-python",
   "name": "python",
   "nbconvert_exporter": "python",
   "pygments_lexer": "ipython3",
   "version": "3.6.4"
  }
 },
 "nbformat": 4,
 "nbformat_minor": 2
}
