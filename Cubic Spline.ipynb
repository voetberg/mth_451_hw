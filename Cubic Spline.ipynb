{
 "cells": [
  {
   "cell_type": "code",
   "execution_count": null,
   "metadata": {},
   "outputs": [],
   "source": [
    "##Basic code for a natural cubic spline \n",
    "\n",
    "def alpha(a_lst, h_lst,i):\n",
    "    return 3/h_lst[i]*(a_lst[i+1]-a_lst[i])-(3/(h_lst[i-1])*(a_lst[i]-a_lst[i-1]))\n",
    "\n",
    "def l(x_lst,h_lst,mu_lst,i):\n",
    "    return 2(x_lst[i+1]-x_lst[i-1])-h_lst[i-1]*mu_lst[i-1]\n",
    "\n",
    "def mu(h_lst,l_st,i):\n",
    "    return h_lst[i]/l_st[i]\n",
    "\n",
    "def z(alp_lst,h_lst,z_lst,l_lst,i):\n",
    "    return (alp_lst[i]-h_lst[i-1]*z_lst[i-1])/l_lst[i]\n",
    "\n",
    "def c(z_lst,mu_lst,c_lst,i):\n",
    "    return z_lst[i]-mu_lst[i]*c_lst[i+1]\n",
    "\n",
    "def b(a_lst,h_lst,c_lst,i):\n",
    "    return (a_lst[i+1]-a_lst[i])/h_lst[i]-h_lst[i]*(c_lst[i+1]+2*c_lst[i])/3\n",
    "\n",
    "def d(c_lst,h_lst,i):\n",
    "    return (c_lst[i+1]-c_lst[i])/(3*h_lst[i])"
   ]
  },
  {
   "cell_type": "code",
   "execution_count": 1,
   "metadata": {},
   "outputs": [],
   "source": [
    "##Manual imputs \n",
    "a_0 = -.024750\n",
    "a_1 = .3349375\n",
    "a_2 = 1.101\n",
    "\n",
    "a_lst = [a_0,a_1,a_2]\n",
    "x_lst = [-.5,-.25,0]\n",
    "h_lst = []\n",
    "\n",
    "l_lst = [1] \n",
    "mu_lst = [0] \n",
    "z_lst = [0]\n",
    "alp_lst = [alpha(a_lst,h_lst,1)]\n",
    "\n",
    "for i in len(a_lst):\n",
    "    h_lst.append(x_lst[i+1]-x_lst[i])"
   ]
  },
  {
   "cell_type": "code",
   "execution_count": null,
   "metadata": {},
   "outputs": [],
   "source": [
    "##Actual algorithm \n",
    "for i in range(0,1):\n",
    "    l_lst.append(l(x_lst,h_lst,mu_lst,i))\n",
    "    mu_lst.append(mu(h_lst,l_st,i))\n",
    "    z_lst.append(z(alp_lst,h_lst,z_lst,l_lst,i))\n",
    "    \n",
    "l_lst.append(1)\n",
    "z_lst.append(0)\n",
    "c_lst.append(0)\n",
    "\n",
    "for i in range (1,-1): \n",
    "    c_lst.append(c(z_lst,mu_lst,c_lst,i))\n",
    "    b_lst.append(b(a_lst,h_lst,c_lst,i))\n",
    "    d_lst.append(d(c_lst,h_lst,i))\n",
    "    \n",
    "print(a_lst,b_lst,c_lst,d_lst)"
   ]
  },
  {
   "cell_type": "code",
   "execution_count": 2,
   "metadata": {},
   "outputs": [],
   "source": [
    "##Using these to show a result \n",
    "def f_appx(x,n):\n",
    "    return a_lst[n]+b_lst[n]*(x-x_lst[n])+c_lst[n]*(x-x_lst[n])**2+d_lst[n]*(x-x_lst[n])**3\n",
    "def f_p_appx(x,n):\n",
    "    return b_lst[n]+2*c_lst[n]*(x-x_lst[n])+3*d_lst[n]*(x-x_lst[n])**2"
   ]
  },
  {
   "cell_type": "code",
   "execution_count": null,
   "metadata": {},
   "outputs": [],
   "source": [
    "print(f_appx(-.3333,1),f_p_appx(-.3333,1))"
   ]
  }
 ],
 "metadata": {
  "kernelspec": {
   "display_name": "Python 3",
   "language": "python",
   "name": "python3"
  },
  "language_info": {
   "codemirror_mode": {
    "name": "ipython",
    "version": 3
   },
   "file_extension": ".py",
   "mimetype": "text/x-python",
   "name": "python",
   "nbconvert_exporter": "python",
   "pygments_lexer": "ipython3",
   "version": "3.6.4"
  }
 },
 "nbformat": 4,
 "nbformat_minor": 2
}
